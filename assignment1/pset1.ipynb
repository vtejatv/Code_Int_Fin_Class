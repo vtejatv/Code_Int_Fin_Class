{
 "cells": [
  {
   "cell_type": "code",
   "execution_count": 1,
   "metadata": {},
   "outputs": [],
   "source": [
    "import pandas as pd\n",
    "import numpy as np\n",
    "DROPBOX_PATH = '/Users/tejav/Dropbox/Data_Int_Fin_Class/rawdata/fx/'"
   ]
  },
  {
   "cell_type": "code",
   "execution_count": 2,
   "metadata": {},
   "outputs": [],
   "source": [
    "reuters_spot = pd.read_csv(DROPBOX_PATH + 'reuters_spot_monthly.csv').set_index('Date').drop(columns=['Name'])\n",
    "reuters_forward = pd.read_csv(DROPBOX_PATH + 'reuters_forward_monthly.csv').set_index('Date').drop(columns=['Name'])\n",
    "\n",
    "barclays_spot = pd.read_csv(DROPBOX_PATH + 'barclays_monthly_spot.csv').set_index('Date').drop(columns=['Name'])\n",
    "barclays_forward = pd.read_csv(DROPBOX_PATH + 'barclays_monthly_forward.csv').set_index('Date').drop(columns=['Name'])"
   ]
  },
  {
   "cell_type": "code",
   "execution_count": 3,
   "metadata": {},
   "outputs": [],
   "source": [
    "reuters_spot.index = pd.to_datetime(reuters_spot.index)\n",
    "reuters_forward.index = pd.to_datetime(reuters_forward.index)\n",
    "\n",
    "barclays_spot.index = pd.to_datetime(barclays_spot.index)\n",
    "barclays_forward.index = pd.to_datetime(barclays_forward.index)"
   ]
  },
  {
   "cell_type": "code",
   "execution_count": 4,
   "metadata": {},
   "outputs": [],
   "source": [
    "reuters_spot = reuters_spot.astype(float) \n",
    "reuters_forward = reuters_forward.astype(float)\n",
    "reuters_forward.columns = reuters_spot.columns\n",
    "\n",
    "barclays_spot = barclays_spot.astype(float)\n",
    "barclays_forward = barclays_forward.astype(float)\n",
    "barclays_forward.columns = barclays_spot.columns"
   ]
  },
  {
   "cell_type": "code",
   "execution_count": 5,
   "metadata": {},
   "outputs": [],
   "source": [
    "reuters_spot[reuters_spot == 0] = None\n",
    "reuters_forward[reuters_forward == 0] = None\n",
    "\n",
    "barclays_spot[barclays_spot == 0] = None\n",
    "barclays_forward[barclays_forward == 0] = None\n",
    "\n",
    "barclays_spot = barclays_spot[:'12-31-1996']\n",
    "barclays_forward = barclays_forward[:'12-31-1996']\n"
   ]
  },
  {
   "cell_type": "code",
   "execution_count": 6,
   "metadata": {},
   "outputs": [],
   "source": [
    "reuters_discount = np.log(reuters_forward) - np.log(reuters_spot)\n",
    "reuters_spot_change = np.log(reuters_spot.shift(-1)) - np.log(reuters_spot)\n",
    "reuters_excess_return = -reuters_spot_change + reuters_discount\n",
    "\n",
    "barclays_discount = np.log(barclays_forward) - np.log(barclays_spot)\n",
    "barclays_spot_change = np.log(barclays_spot.shift(-1)) - np.log(barclays_spot)\n",
    "barclays_excess_return = -barclays_spot_change + barclays_discount"
   ]
  },
  {
   "cell_type": "code",
   "execution_count": 7,
   "metadata": {},
   "outputs": [],
   "source": [
    "discounts = [[], [], [], [], [], []]\n",
    "spot_changes = [[], [], [], [], [], []]\n",
    "excess_returns = [[], [], [], [], [], []]\n",
    "dates = [[], [], [], [], [], []]\n",
    "\n",
    "for i in range(0, barclays_discount.shape[0]):\n",
    "    row = barclays_discount.iloc[i].dropna().sort_values()\n",
    "    for j in range(0, row.shape[0]):\n",
    "        discount_period = row.iloc[j]\n",
    "        spot_change_period = barclays_spot_change.iloc[i][row.index[j]]\n",
    "        excess_return_period = barclays_excess_return.iloc[i][row.index[j]]\n",
    "        if pd.isnull(discount_period) or pd.isnull(spot_change_period) or pd.isnull(excess_return_period):\n",
    "            continue\n",
    "        for k in range(0, 6):\n",
    "            if (k + 1) * row.shape[0]/6 > j:\n",
    "                discounts[k].append(discount_period)\n",
    "                spot_changes[k].append(spot_change_period)\n",
    "                excess_returns[k].append(excess_return_period)\n",
    "                dates[k].append(row.name)\n",
    "                break\n",
    "                \n",
    "                \n",
    "for i in range(0, reuters_discount.shape[0]):\n",
    "    row = reuters_discount.iloc[i].dropna().sort_values()\n",
    "    for j in range(0, row.shape[0]):\n",
    "        discount_period = row.iloc[j]\n",
    "        spot_change_period = reuters_spot_change.iloc[i][row.index[j]]\n",
    "        excess_return_period = reuters_excess_return.iloc[i][row.index[j]]\n",
    "        if pd.isnull(discount_period) or pd.isnull(spot_change_period) or pd.isnull(excess_return_period):\n",
    "            continue\n",
    "        for k in range(0, 6):\n",
    "            if (k + 1) * row.shape[0]/6 > j:\n",
    "                discounts[k].append(discount_period)\n",
    "                spot_changes[k].append(spot_change_period)\n",
    "                excess_returns[k].append(excess_return_period)\n",
    "                dates[k].append(row.name)\n",
    "                break\n",
    "                "
   ]
  },
  {
   "cell_type": "code",
   "execution_count": 8,
   "metadata": {},
   "outputs": [
    {
     "name": "stdout",
     "output_type": "stream",
     "text": [
      "-0.17148137660924279\n",
      "8.996607735302199\n",
      "0.5848546771493777\n",
      "9.142148103935941\n",
      "-1.1691406105005226\n",
      "10.089468747745864\n",
      "-1.1179733130072016\n",
      "9.131793090993648\n",
      "1.4278756211381207\n",
      "11.888735038244072\n",
      "3.882259448495402\n",
      "14.593846642712466\n"
     ]
    }
   ],
   "source": [
    "import statistics\n",
    "\n",
    "for i in spot_changes:\n",
    "    print(statistics.mean(i) * 100 * 12)\n",
    "    print(statistics.pstdev(i) * 100 * np.sqrt(12))"
   ]
  },
  {
   "cell_type": "code",
   "execution_count": 9,
   "metadata": {},
   "outputs": [
    {
     "name": "stdout",
     "output_type": "stream",
     "text": [
      "-5.791035522403023\n",
      "14.974159327773945\n",
      "-0.894430743278283\n",
      "0.42501508950029204\n",
      "-0.14096539928013435\n",
      "0.44382269984194356\n",
      "0.7262694573714455\n",
      "0.45477392570583947\n",
      "2.6196395649480833\n",
      "0.7050518368957901\n",
      "9.96142714578638\n",
      "4.27829527042163\n"
     ]
    }
   ],
   "source": [
    "for i in discounts:\n",
    "    print(statistics.mean(i) * 100 * 12)\n",
    "    print(statistics.pstdev(i) * 100 * np.sqrt(12))"
   ]
  },
  {
   "cell_type": "code",
   "execution_count": 10,
   "metadata": {},
   "outputs": [
    {
     "name": "stdout",
     "output_type": "stream",
     "text": [
      "-5.61955414579378\n",
      "17.999100601226345\n",
      "-1.4792854204276606\n",
      "9.158039045764932\n",
      "1.0281752112203881\n",
      "10.126938244649551\n",
      "1.8442427703786468\n",
      "9.15666452258933\n",
      "1.1917639438099628\n",
      "11.85303385137098\n",
      "6.07916769729098\n",
      "14.79654194155994\n"
     ]
    }
   ],
   "source": [
    "for i in excess_returns:\n",
    "    print(statistics.mean(i) * 100 * 12)\n",
    "    print(statistics.pstdev(i) * 100 * np.sqrt(12))"
   ]
  },
  {
   "cell_type": "code",
   "execution_count": 11,
   "metadata": {},
   "outputs": [
    {
     "name": "stdout",
     "output_type": "stream",
     "text": [
      "2.08051511795425\n",
      "14.328977850825238\n",
      "0.1451963384697694\n",
      "3.442467177524727\n",
      "14.812788330158755\n",
      "0.23239832371842398\n",
      "3.7335937034276663\n",
      "14.293733737493199\n",
      "0.26120492881676244\n",
      "3.4096390809384856\n",
      "15.257928420356778\n",
      "0.22346671101100612\n",
      "5.833842360536368\n",
      "16.583223127826262\n",
      "0.3517918269306355\n"
     ]
    }
   ],
   "source": [
    "for i in range(1, len(excess_returns)):\n",
    "    myneglist = [-x for x in excess_returns[0]]\n",
    "    new_list = excess_returns[i] + myneglist\n",
    "    \n",
    "    print(statistics.mean(new_list) * 100 * 12)\n",
    "    print(statistics.pstdev(new_list) * 100 * np.sqrt(12))\n",
    "    print((statistics.mean(new_list) * 100 * 12) / (statistics.pstdev(new_list) * 100 * np.sqrt(12)))"
   ]
  },
  {
   "cell_type": "code",
   "execution_count": 57,
   "metadata": {},
   "outputs": [],
   "source": [
    "returns_df = []\n",
    "for i in range(0, len(excess_returns)):\n",
    "    carry = [excess_returns[i], dates[i]]\n",
    "    one_df = pd.concat([pd.Series(x) for x in carry], axis=1)\n",
    "    one_df.columns = ['carry', 'Date']\n",
    "    one_df = one_df.groupby(['Date']).mean()\n",
    "    one_df.index = pd.to_datetime(one_df.index)\n",
    "    returns_df.append(one_df)"
   ]
  },
  {
   "cell_type": "code",
   "execution_count": 81,
   "metadata": {},
   "outputs": [
    {
     "name": "stdout",
     "output_type": "stream",
     "text": [
      "carry   -4.87086\n",
      "dtype: float64\n",
      "carry    9.711794\n",
      "dtype: float64\n",
      "carry   -1.161838\n",
      "dtype: float64\n",
      "carry    8.243902\n",
      "dtype: float64\n",
      "carry    0.899105\n",
      "dtype: float64\n",
      "carry    8.75154\n",
      "dtype: float64\n",
      "carry    2.232351\n",
      "dtype: float64\n",
      "carry    7.668063\n",
      "dtype: float64\n",
      "carry    1.794285\n",
      "dtype: float64\n",
      "carry    8.687055\n",
      "dtype: float64\n",
      "carry    5.645944\n",
      "dtype: float64\n",
      "carry    10.936549\n",
      "dtype: float64\n"
     ]
    }
   ],
   "source": [
    "for i in returns_df:\n",
    "    print(i.mean() * 100 * 12)\n",
    "    print(i.std() * 100 * np.sqrt(12))\n",
    "\n"
   ]
  },
  {
   "cell_type": "code",
   "execution_count": 83,
   "metadata": {},
   "outputs": [
    {
     "name": "stdout",
     "output_type": "stream",
     "text": [
      "carry    3.709022\n",
      "dtype: float64\n",
      "carry    8.001227\n",
      "dtype: float64\n",
      "carry    5.769965\n",
      "dtype: float64\n",
      "carry    8.785108\n",
      "dtype: float64\n",
      "carry    7.103211\n",
      "dtype: float64\n",
      "carry    8.776822\n",
      "dtype: float64\n",
      "carry    6.665145\n",
      "dtype: float64\n",
      "carry    9.373758\n",
      "dtype: float64\n",
      "carry    10.516804\n",
      "dtype: float64\n",
      "carry    11.454436\n",
      "dtype: float64\n"
     ]
    }
   ],
   "source": [
    "for i in range(1, len(returns_df)):\n",
    "    print((returns_df[i] - returns_df[0]).mean() * 100 * 12)\n",
    "    print((returns_df[i] - returns_df[0]).std() * 100 * np.sqrt(12))"
   ]
  },
  {
   "cell_type": "code",
   "execution_count": 58,
   "metadata": {},
   "outputs": [],
   "source": [
    "vix_monthly = pd.read_csv(DROPBOX_PATH + 'vix_monthly.csv')\n",
    "vix_monthly = vix_monthly.set_index('DATE')\n",
    "vix_monthly.index = pd.to_datetime(vix_monthly.index)"
   ]
  },
  {
   "cell_type": "code",
   "execution_count": 94,
   "metadata": {},
   "outputs": [],
   "source": [
    "carry_trade = returns_df[5] - returns_df[0]"
   ]
  },
  {
   "cell_type": "code",
   "execution_count": 100,
   "metadata": {},
   "outputs": [
    {
     "data": {
      "text/plain": [
       "<AxesSubplot:xlabel='DATE'>"
      ]
     },
     "execution_count": 100,
     "metadata": {},
     "output_type": "execute_result"
    },
    {
     "data": {
      "image/png": "[encoded data removed]",
      "text/plain": [
       "<Figure size 432x288 with 1 Axes>"
      ]
     },
     "metadata": {
      "needs_background": "light"
     },
     "output_type": "display_data"
    },
    {
     "data": {
      "image/png": "[encoded data removed]",
      "text/plain": [
       "<Figure size 432x288 with 1 Axes>"
      ]
     },
     "metadata": {
      "needs_background": "light"
     },
     "output_type": "display_data"
    }
   ],
   "source": [
    "(100 *(carry_trade['01-01-2002':] + 1).cumprod()).plot()\n",
    "vix_monthly['01-01-2002':].plot()"
   ]
  },
  {
   "cell_type": "code",
   "execution_count": 66,
   "metadata": {},
   "outputs": [],
   "source": [
    "concat = pd.concat(returns_df, axis=1)"
   ]
  },
  {
   "cell_type": "code",
   "execution_count": 74,
   "metadata": {},
   "outputs": [],
   "source": [
    "import numpy as np\n",
    "from sklearn.decomposition import PCA\n",
    "\n",
    "pca = PCA(n_components=6)\n",
    "pca.fit_transform(concat)\n",
    "loadings = pca.components_.T * np.sqrt(pca.explained_variance_)"
   ]
  },
  {
   "cell_type": "code",
   "execution_count": 76,
   "metadata": {},
   "outputs": [
    {
     "name": "stdout",
     "output_type": "stream",
     "text": [
      "[0.68615416 0.13667903 0.08769577 0.04456488 0.02830936 0.0165968 ]\n"
     ]
    }
   ],
   "source": [
    "print(pca.explained_variance_ratio_)"
   ]
  },
  {
   "cell_type": "code",
   "execution_count": 77,
   "metadata": {},
   "outputs": [
    {
     "data": {
      "text/plain": [
       "array([[-0.01951189, -0.01669617, -0.01103232, -0.00195794,  0.00090748,\n",
       "        -0.00038207],\n",
       "       [-0.02054157, -0.00497163,  0.00489957,  0.00694114, -0.00602829,\n",
       "         0.00333927],\n",
       "       [-0.02247128, -0.00271439,  0.00822471,  0.00404057,  0.00374042,\n",
       "        -0.00528735],\n",
       "       [-0.01964738,  0.00125589,  0.00503177, -0.00324324,  0.00634324,\n",
       "         0.00513055],\n",
       "       [-0.02189922,  0.00332709,  0.00412324, -0.0096947 , -0.00497868,\n",
       "        -0.0015663 ],\n",
       "       [-0.02538216,  0.01541868, -0.0102182 ,  0.00318539,  0.00025502,\n",
       "        -0.00034774]])"
      ]
     },
     "execution_count": 77,
     "metadata": {},
     "output_type": "execute_result"
    }
   ],
   "source": [
    "loadings"
   ]
  },
  {
   "cell_type": "code",
   "execution_count": null,
   "metadata": {},
   "outputs": [],
   "source": []
  },
  {
   "cell_type": "code",
   "execution_count": null,
   "metadata": {},
   "outputs": [],
   "source": []
  }
 ],
 "metadata": {
  "kernelspec": {
   "display_name": "Python 3",
   "language": "python",
   "name": "python3"
  },
  "language_info": {
   "codemirror_mode": {
    "name": "ipython",
    "version": 3
   },
   "file_extension": ".py",
   "mimetype": "text/x-python",
   "name": "python",
   "nbconvert_exporter": "python",
   "pygments_lexer": "ipython3",
   "version": "3.8.5"
  }
 },
 "nbformat": 4,
 "nbformat_minor": 4
}
